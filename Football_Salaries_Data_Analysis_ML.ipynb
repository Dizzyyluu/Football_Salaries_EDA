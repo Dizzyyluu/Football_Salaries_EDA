{
 "cells": [
  {
   "cell_type": "code",
   "execution_count": 1,
   "id": "49202e2e",
   "metadata": {},
   "outputs": [],
   "source": [
    "import pandas as pd\n",
    "import matplotlib.pyplot as plt"
   ]
  },
  {
   "cell_type": "code",
   "execution_count": 3,
   "id": "19d1f2d9",
   "metadata": {},
   "outputs": [],
   "source": [
    "df = pd.read_csv(\"SalaryPrediction.csv\")"
   ]
  },
  {
   "cell_type": "code",
   "execution_count": 4,
   "id": "89f5cd77",
   "metadata": {},
   "outputs": [
    {
     "data": {
      "text/html": [
       "<div>\n",
       "<style scoped>\n",
       "    .dataframe tbody tr th:only-of-type {\n",
       "        vertical-align: middle;\n",
       "    }\n",
       "\n",
       "    .dataframe tbody tr th {\n",
       "        vertical-align: top;\n",
       "    }\n",
       "\n",
       "    .dataframe thead th {\n",
       "        text-align: right;\n",
       "    }\n",
       "</style>\n",
       "<table border=\"1\" class=\"dataframe\">\n",
       "  <thead>\n",
       "    <tr style=\"text-align: right;\">\n",
       "      <th></th>\n",
       "      <th>Wage</th>\n",
       "      <th>Age</th>\n",
       "      <th>Club</th>\n",
       "      <th>League</th>\n",
       "      <th>Nation</th>\n",
       "      <th>Position</th>\n",
       "      <th>Apps</th>\n",
       "      <th>Caps</th>\n",
       "    </tr>\n",
       "  </thead>\n",
       "  <tbody>\n",
       "    <tr>\n",
       "      <th>0</th>\n",
       "      <td>46,427,000</td>\n",
       "      <td>23</td>\n",
       "      <td>PSG</td>\n",
       "      <td>Ligue 1 Uber Eats</td>\n",
       "      <td>FRA</td>\n",
       "      <td>Forward</td>\n",
       "      <td>190</td>\n",
       "      <td>57</td>\n",
       "    </tr>\n",
       "    <tr>\n",
       "      <th>1</th>\n",
       "      <td>42,125,000</td>\n",
       "      <td>30</td>\n",
       "      <td>PSG</td>\n",
       "      <td>Ligue 1 Uber Eats</td>\n",
       "      <td>BRA</td>\n",
       "      <td>Midfilder</td>\n",
       "      <td>324</td>\n",
       "      <td>119</td>\n",
       "    </tr>\n",
       "    <tr>\n",
       "      <th>2</th>\n",
       "      <td>34,821,000</td>\n",
       "      <td>35</td>\n",
       "      <td>PSG</td>\n",
       "      <td>Ligue 1 Uber Eats</td>\n",
       "      <td>ARG</td>\n",
       "      <td>Forward</td>\n",
       "      <td>585</td>\n",
       "      <td>162</td>\n",
       "    </tr>\n",
       "    <tr>\n",
       "      <th>3</th>\n",
       "      <td>19,959,000</td>\n",
       "      <td>31</td>\n",
       "      <td>R. Madrid</td>\n",
       "      <td>La Liga</td>\n",
       "      <td>BEL</td>\n",
       "      <td>Forward</td>\n",
       "      <td>443</td>\n",
       "      <td>120</td>\n",
       "    </tr>\n",
       "    <tr>\n",
       "      <th>4</th>\n",
       "      <td>19,500,000</td>\n",
       "      <td>31</td>\n",
       "      <td>Man UFC</td>\n",
       "      <td>Premier League</td>\n",
       "      <td>ESP</td>\n",
       "      <td>Goalkeeper</td>\n",
       "      <td>480</td>\n",
       "      <td>45</td>\n",
       "    </tr>\n",
       "  </tbody>\n",
       "</table>\n",
       "</div>"
      ],
      "text/plain": [
       "         Wage  Age       Club             League Nation    Position  Apps  \\\n",
       "0  46,427,000   23        PSG  Ligue 1 Uber Eats    FRA     Forward   190   \n",
       "1  42,125,000   30        PSG  Ligue 1 Uber Eats    BRA   Midfilder   324   \n",
       "2  34,821,000   35        PSG  Ligue 1 Uber Eats    ARG     Forward   585   \n",
       "3  19,959,000   31  R. Madrid            La Liga    BEL     Forward   443   \n",
       "4  19,500,000   31    Man UFC     Premier League    ESP  Goalkeeper   480   \n",
       "\n",
       "   Caps  \n",
       "0    57  \n",
       "1   119  \n",
       "2   162  \n",
       "3   120  \n",
       "4    45  "
      ]
     },
     "execution_count": 4,
     "metadata": {},
     "output_type": "execute_result"
    }
   ],
   "source": [
    "df.head()"
   ]
  },
  {
   "cell_type": "code",
   "execution_count": 5,
   "id": "4d188733",
   "metadata": {},
   "outputs": [
    {
     "name": "stdout",
     "output_type": "stream",
     "text": [
      "<class 'pandas.core.frame.DataFrame'>\n",
      "RangeIndex: 3907 entries, 0 to 3906\n",
      "Data columns (total 8 columns):\n",
      " #   Column    Non-Null Count  Dtype \n",
      "---  ------    --------------  ----- \n",
      " 0   Wage      3907 non-null   object\n",
      " 1   Age       3907 non-null   int64 \n",
      " 2   Club      3907 non-null   object\n",
      " 3   League    3907 non-null   object\n",
      " 4   Nation    3907 non-null   object\n",
      " 5   Position  3907 non-null   object\n",
      " 6   Apps      3907 non-null   int64 \n",
      " 7   Caps      3907 non-null   int64 \n",
      "dtypes: int64(3), object(5)\n",
      "memory usage: 244.3+ KB\n"
     ]
    }
   ],
   "source": [
    "df.info()"
   ]
  },
  {
   "cell_type": "code",
   "execution_count": 6,
   "id": "df6e0e4e",
   "metadata": {},
   "outputs": [
    {
     "data": {
      "text/html": [
       "<div>\n",
       "<style scoped>\n",
       "    .dataframe tbody tr th:only-of-type {\n",
       "        vertical-align: middle;\n",
       "    }\n",
       "\n",
       "    .dataframe tbody tr th {\n",
       "        vertical-align: top;\n",
       "    }\n",
       "\n",
       "    .dataframe thead th {\n",
       "        text-align: right;\n",
       "    }\n",
       "</style>\n",
       "<table border=\"1\" class=\"dataframe\">\n",
       "  <thead>\n",
       "    <tr style=\"text-align: right;\">\n",
       "      <th></th>\n",
       "      <th>Wage</th>\n",
       "      <th>Age</th>\n",
       "      <th>Club</th>\n",
       "      <th>League</th>\n",
       "      <th>Nation</th>\n",
       "      <th>Position</th>\n",
       "      <th>Apps</th>\n",
       "      <th>Caps</th>\n",
       "    </tr>\n",
       "  </thead>\n",
       "  <tbody>\n",
       "    <tr>\n",
       "      <th>3902</th>\n",
       "      <td>3,400</td>\n",
       "      <td>19</td>\n",
       "      <td>Vigo</td>\n",
       "      <td>La Liga</td>\n",
       "      <td>ESP</td>\n",
       "      <td>Defender</td>\n",
       "      <td>0</td>\n",
       "      <td>0</td>\n",
       "    </tr>\n",
       "    <tr>\n",
       "      <th>3903</th>\n",
       "      <td>3,200</td>\n",
       "      <td>18</td>\n",
       "      <td>Famalicao</td>\n",
       "      <td>Primiera Liga</td>\n",
       "      <td>BRA</td>\n",
       "      <td>Goalkeeper</td>\n",
       "      <td>0</td>\n",
       "      <td>0</td>\n",
       "    </tr>\n",
       "    <tr>\n",
       "      <th>3904</th>\n",
       "      <td>2,900</td>\n",
       "      <td>18</td>\n",
       "      <td>Vigo</td>\n",
       "      <td>La Liga</td>\n",
       "      <td>ESP</td>\n",
       "      <td>Forward</td>\n",
       "      <td>0</td>\n",
       "      <td>0</td>\n",
       "    </tr>\n",
       "    <tr>\n",
       "      <th>3905</th>\n",
       "      <td>2,700</td>\n",
       "      <td>18</td>\n",
       "      <td>Vigo</td>\n",
       "      <td>La Liga</td>\n",
       "      <td>ESP</td>\n",
       "      <td>Defender</td>\n",
       "      <td>0</td>\n",
       "      <td>0</td>\n",
       "    </tr>\n",
       "    <tr>\n",
       "      <th>3906</th>\n",
       "      <td>1,400</td>\n",
       "      <td>18</td>\n",
       "      <td>Vigo</td>\n",
       "      <td>La Liga</td>\n",
       "      <td>ESP</td>\n",
       "      <td>Defender</td>\n",
       "      <td>0</td>\n",
       "      <td>0</td>\n",
       "    </tr>\n",
       "  </tbody>\n",
       "</table>\n",
       "</div>"
      ],
      "text/plain": [
       "       Wage  Age       Club         League Nation    Position  Apps  Caps\n",
       "3902  3,400   19       Vigo        La Liga    ESP    Defender     0     0\n",
       "3903  3,200   18  Famalicao  Primiera Liga    BRA  Goalkeeper     0     0\n",
       "3904  2,900   18       Vigo        La Liga    ESP     Forward     0     0\n",
       "3905  2,700   18       Vigo        La Liga    ESP    Defender     0     0\n",
       "3906  1,400   18       Vigo        La Liga    ESP    Defender     0     0"
      ]
     },
     "execution_count": 6,
     "metadata": {},
     "output_type": "execute_result"
    }
   ],
   "source": [
    "df.tail()"
   ]
  },
  {
   "cell_type": "code",
   "execution_count": 7,
   "id": "c3dcc047",
   "metadata": {},
   "outputs": [
    {
     "data": {
      "text/html": [
       "<div>\n",
       "<style scoped>\n",
       "    .dataframe tbody tr th:only-of-type {\n",
       "        vertical-align: middle;\n",
       "    }\n",
       "\n",
       "    .dataframe tbody tr th {\n",
       "        vertical-align: top;\n",
       "    }\n",
       "\n",
       "    .dataframe thead th {\n",
       "        text-align: right;\n",
       "    }\n",
       "</style>\n",
       "<table border=\"1\" class=\"dataframe\">\n",
       "  <thead>\n",
       "    <tr style=\"text-align: right;\">\n",
       "      <th></th>\n",
       "      <th>Age</th>\n",
       "      <th>Apps</th>\n",
       "      <th>Caps</th>\n",
       "    </tr>\n",
       "  </thead>\n",
       "  <tbody>\n",
       "    <tr>\n",
       "      <th>count</th>\n",
       "      <td>3907.000000</td>\n",
       "      <td>3907.000000</td>\n",
       "      <td>3907.000000</td>\n",
       "    </tr>\n",
       "    <tr>\n",
       "      <th>mean</th>\n",
       "      <td>24.120553</td>\n",
       "      <td>140.057077</td>\n",
       "      <td>8.926542</td>\n",
       "    </tr>\n",
       "    <tr>\n",
       "      <th>std</th>\n",
       "      <td>4.935638</td>\n",
       "      <td>131.694425</td>\n",
       "      <td>20.518234</td>\n",
       "    </tr>\n",
       "    <tr>\n",
       "      <th>min</th>\n",
       "      <td>18.000000</td>\n",
       "      <td>0.000000</td>\n",
       "      <td>0.000000</td>\n",
       "    </tr>\n",
       "    <tr>\n",
       "      <th>25%</th>\n",
       "      <td>20.000000</td>\n",
       "      <td>15.000000</td>\n",
       "      <td>0.000000</td>\n",
       "    </tr>\n",
       "    <tr>\n",
       "      <th>50%</th>\n",
       "      <td>24.000000</td>\n",
       "      <td>115.000000</td>\n",
       "      <td>0.000000</td>\n",
       "    </tr>\n",
       "    <tr>\n",
       "      <th>75%</th>\n",
       "      <td>28.000000</td>\n",
       "      <td>224.500000</td>\n",
       "      <td>6.000000</td>\n",
       "    </tr>\n",
       "    <tr>\n",
       "      <th>max</th>\n",
       "      <td>41.000000</td>\n",
       "      <td>715.000000</td>\n",
       "      <td>180.000000</td>\n",
       "    </tr>\n",
       "  </tbody>\n",
       "</table>\n",
       "</div>"
      ],
      "text/plain": [
       "               Age         Apps         Caps\n",
       "count  3907.000000  3907.000000  3907.000000\n",
       "mean     24.120553   140.057077     8.926542\n",
       "std       4.935638   131.694425    20.518234\n",
       "min      18.000000     0.000000     0.000000\n",
       "25%      20.000000    15.000000     0.000000\n",
       "50%      24.000000   115.000000     0.000000\n",
       "75%      28.000000   224.500000     6.000000\n",
       "max      41.000000   715.000000   180.000000"
      ]
     },
     "execution_count": 7,
     "metadata": {},
     "output_type": "execute_result"
    }
   ],
   "source": [
    "df.describe()"
   ]
  },
  {
   "cell_type": "code",
   "execution_count": 9,
   "id": "c9aba637",
   "metadata": {},
   "outputs": [
    {
     "data": {
      "text/plain": [
       "Wage        0\n",
       "Age         0\n",
       "Club        0\n",
       "League      0\n",
       "Nation      0\n",
       "Position    0\n",
       "Apps        0\n",
       "Caps        0\n",
       "dtype: int64"
      ]
     },
     "execution_count": 9,
     "metadata": {},
     "output_type": "execute_result"
    }
   ],
   "source": [
    "df.isna().sum()"
   ]
  },
  {
   "cell_type": "code",
   "execution_count": 11,
   "id": "26789d75",
   "metadata": {},
   "outputs": [
    {
     "data": {
      "text/plain": [
       "65"
      ]
     },
     "execution_count": 11,
     "metadata": {},
     "output_type": "execute_result"
    }
   ],
   "source": [
    "#CHeck for duplicates for each row\n",
    "df.duplicated().sum()"
   ]
  },
  {
   "cell_type": "code",
   "execution_count": 15,
   "id": "c8a0eb56",
   "metadata": {},
   "outputs": [],
   "source": [
    "#DElete duplicated rows\n",
    "df.drop_duplicates(inplace = True)"
   ]
  },
  {
   "cell_type": "code",
   "execution_count": 16,
   "id": "9709a957",
   "metadata": {},
   "outputs": [
    {
     "data": {
      "text/plain": [
       "0"
      ]
     },
     "execution_count": 16,
     "metadata": {},
     "output_type": "execute_result"
    }
   ],
   "source": [
    "#check if it has been dropped\n",
    "df.duplicated().sum()"
   ]
  },
  {
   "cell_type": "code",
   "execution_count": 17,
   "id": "95acd961",
   "metadata": {
    "scrolled": true
   },
   "outputs": [
    {
     "data": {
      "image/png": "[encoded data removed]",
      "text/plain": [
       "<Figure size 432x288 with 1 Axes>"
      ]
     },
     "metadata": {
      "needs_background": "light"
     },
     "output_type": "display_data"
    }
   ],
   "source": [
    "#DIstribution of age\n",
    "plt.hist(df['Age'], bins = 20, color = \"skyblue\", edgecolor = \"black\")\n",
    "plt.title(\"DIstribution of Age\")\n",
    "plt.xlabel(\"Age\")\n",
    "plt.ylabel(\"Frequency\")\n",
    "plt.show()"
   ]
  },
  {
   "cell_type": "code",
   "execution_count": 18,
   "id": "42005262",
   "metadata": {},
   "outputs": [
    {
     "data": {
      "text/html": [
       "<div>\n",
       "<style scoped>\n",
       "    .dataframe tbody tr th:only-of-type {\n",
       "        vertical-align: middle;\n",
       "    }\n",
       "\n",
       "    .dataframe tbody tr th {\n",
       "        vertical-align: top;\n",
       "    }\n",
       "\n",
       "    .dataframe thead th {\n",
       "        text-align: right;\n",
       "    }\n",
       "</style>\n",
       "<table border=\"1\" class=\"dataframe\">\n",
       "  <thead>\n",
       "    <tr style=\"text-align: right;\">\n",
       "      <th></th>\n",
       "      <th>Wage</th>\n",
       "      <th>Age</th>\n",
       "      <th>Club</th>\n",
       "      <th>League</th>\n",
       "      <th>Nation</th>\n",
       "      <th>Position</th>\n",
       "      <th>Apps</th>\n",
       "      <th>Caps</th>\n",
       "    </tr>\n",
       "  </thead>\n",
       "  <tbody>\n",
       "    <tr>\n",
       "      <th>0</th>\n",
       "      <td>46,427,000</td>\n",
       "      <td>23</td>\n",
       "      <td>PSG</td>\n",
       "      <td>Ligue 1 Uber Eats</td>\n",
       "      <td>FRA</td>\n",
       "      <td>Forward</td>\n",
       "      <td>190</td>\n",
       "      <td>57</td>\n",
       "    </tr>\n",
       "    <tr>\n",
       "      <th>1</th>\n",
       "      <td>42,125,000</td>\n",
       "      <td>30</td>\n",
       "      <td>PSG</td>\n",
       "      <td>Ligue 1 Uber Eats</td>\n",
       "      <td>BRA</td>\n",
       "      <td>Midfilder</td>\n",
       "      <td>324</td>\n",
       "      <td>119</td>\n",
       "    </tr>\n",
       "    <tr>\n",
       "      <th>2</th>\n",
       "      <td>34,821,000</td>\n",
       "      <td>35</td>\n",
       "      <td>PSG</td>\n",
       "      <td>Ligue 1 Uber Eats</td>\n",
       "      <td>ARG</td>\n",
       "      <td>Forward</td>\n",
       "      <td>585</td>\n",
       "      <td>162</td>\n",
       "    </tr>\n",
       "    <tr>\n",
       "      <th>3</th>\n",
       "      <td>19,959,000</td>\n",
       "      <td>31</td>\n",
       "      <td>R. Madrid</td>\n",
       "      <td>La Liga</td>\n",
       "      <td>BEL</td>\n",
       "      <td>Forward</td>\n",
       "      <td>443</td>\n",
       "      <td>120</td>\n",
       "    </tr>\n",
       "    <tr>\n",
       "      <th>4</th>\n",
       "      <td>19,500,000</td>\n",
       "      <td>31</td>\n",
       "      <td>Man UFC</td>\n",
       "      <td>Premier League</td>\n",
       "      <td>ESP</td>\n",
       "      <td>Goalkeeper</td>\n",
       "      <td>480</td>\n",
       "      <td>45</td>\n",
       "    </tr>\n",
       "    <tr>\n",
       "      <th>...</th>\n",
       "      <td>...</td>\n",
       "      <td>...</td>\n",
       "      <td>...</td>\n",
       "      <td>...</td>\n",
       "      <td>...</td>\n",
       "      <td>...</td>\n",
       "      <td>...</td>\n",
       "      <td>...</td>\n",
       "    </tr>\n",
       "    <tr>\n",
       "      <th>3902</th>\n",
       "      <td>3,400</td>\n",
       "      <td>19</td>\n",
       "      <td>Vigo</td>\n",
       "      <td>La Liga</td>\n",
       "      <td>ESP</td>\n",
       "      <td>Defender</td>\n",
       "      <td>0</td>\n",
       "      <td>0</td>\n",
       "    </tr>\n",
       "    <tr>\n",
       "      <th>3903</th>\n",
       "      <td>3,200</td>\n",
       "      <td>18</td>\n",
       "      <td>Famalicao</td>\n",
       "      <td>Primiera Liga</td>\n",
       "      <td>BRA</td>\n",
       "      <td>Goalkeeper</td>\n",
       "      <td>0</td>\n",
       "      <td>0</td>\n",
       "    </tr>\n",
       "    <tr>\n",
       "      <th>3904</th>\n",
       "      <td>2,900</td>\n",
       "      <td>18</td>\n",
       "      <td>Vigo</td>\n",
       "      <td>La Liga</td>\n",
       "      <td>ESP</td>\n",
       "      <td>Forward</td>\n",
       "      <td>0</td>\n",
       "      <td>0</td>\n",
       "    </tr>\n",
       "    <tr>\n",
       "      <th>3905</th>\n",
       "      <td>2,700</td>\n",
       "      <td>18</td>\n",
       "      <td>Vigo</td>\n",
       "      <td>La Liga</td>\n",
       "      <td>ESP</td>\n",
       "      <td>Defender</td>\n",
       "      <td>0</td>\n",
       "      <td>0</td>\n",
       "    </tr>\n",
       "    <tr>\n",
       "      <th>3906</th>\n",
       "      <td>1,400</td>\n",
       "      <td>18</td>\n",
       "      <td>Vigo</td>\n",
       "      <td>La Liga</td>\n",
       "      <td>ESP</td>\n",
       "      <td>Defender</td>\n",
       "      <td>0</td>\n",
       "      <td>0</td>\n",
       "    </tr>\n",
       "  </tbody>\n",
       "</table>\n",
       "<p>3842 rows × 8 columns</p>\n",
       "</div>"
      ],
      "text/plain": [
       "            Wage  Age       Club             League Nation    Position  Apps  \\\n",
       "0     46,427,000   23        PSG  Ligue 1 Uber Eats    FRA     Forward   190   \n",
       "1     42,125,000   30        PSG  Ligue 1 Uber Eats    BRA   Midfilder   324   \n",
       "2     34,821,000   35        PSG  Ligue 1 Uber Eats    ARG     Forward   585   \n",
       "3     19,959,000   31  R. Madrid            La Liga    BEL     Forward   443   \n",
       "4     19,500,000   31    Man UFC     Premier League    ESP  Goalkeeper   480   \n",
       "...          ...  ...        ...                ...    ...         ...   ...   \n",
       "3902       3,400   19       Vigo            La Liga    ESP    Defender     0   \n",
       "3903       3,200   18  Famalicao      Primiera Liga    BRA  Goalkeeper     0   \n",
       "3904       2,900   18       Vigo            La Liga    ESP     Forward     0   \n",
       "3905       2,700   18       Vigo            La Liga    ESP    Defender     0   \n",
       "3906       1,400   18       Vigo            La Liga    ESP    Defender     0   \n",
       "\n",
       "      Caps  \n",
       "0       57  \n",
       "1      119  \n",
       "2      162  \n",
       "3      120  \n",
       "4       45  \n",
       "...    ...  \n",
       "3902     0  \n",
       "3903     0  \n",
       "3904     0  \n",
       "3905     0  \n",
       "3906     0  \n",
       "\n",
       "[3842 rows x 8 columns]"
      ]
     },
     "execution_count": 18,
     "metadata": {},
     "output_type": "execute_result"
    }
   ],
   "source": [
    "df"
   ]
  },
  {
   "cell_type": "code",
   "execution_count": 22,
   "id": "f275eed6",
   "metadata": {},
   "outputs": [
    {
     "data": {
      "text/plain": [
       "str"
      ]
     },
     "execution_count": 22,
     "metadata": {},
     "output_type": "execute_result"
    }
   ],
   "source": [
    "type(df[\"Wage\"][0])"
   ]
  },
  {
   "cell_type": "code",
   "execution_count": 25,
   "id": "92adbaf7",
   "metadata": {},
   "outputs": [],
   "source": [
    "df[\"Wage\"]= df[\"Wage\"].replace({\",\":\"\"}, regex = True).astype(int)"
   ]
  },
  {
   "cell_type": "code",
   "execution_count": 26,
   "id": "6ba6dab7",
   "metadata": {},
   "outputs": [
    {
     "data": {
      "text/html": [
       "<div>\n",
       "<style scoped>\n",
       "    .dataframe tbody tr th:only-of-type {\n",
       "        vertical-align: middle;\n",
       "    }\n",
       "\n",
       "    .dataframe tbody tr th {\n",
       "        vertical-align: top;\n",
       "    }\n",
       "\n",
       "    .dataframe thead th {\n",
       "        text-align: right;\n",
       "    }\n",
       "</style>\n",
       "<table border=\"1\" class=\"dataframe\">\n",
       "  <thead>\n",
       "    <tr style=\"text-align: right;\">\n",
       "      <th></th>\n",
       "      <th>Wage</th>\n",
       "      <th>Age</th>\n",
       "      <th>Club</th>\n",
       "      <th>League</th>\n",
       "      <th>Nation</th>\n",
       "      <th>Position</th>\n",
       "      <th>Apps</th>\n",
       "      <th>Caps</th>\n",
       "    </tr>\n",
       "  </thead>\n",
       "  <tbody>\n",
       "    <tr>\n",
       "      <th>0</th>\n",
       "      <td>46427000</td>\n",
       "      <td>23</td>\n",
       "      <td>PSG</td>\n",
       "      <td>Ligue 1 Uber Eats</td>\n",
       "      <td>FRA</td>\n",
       "      <td>Forward</td>\n",
       "      <td>190</td>\n",
       "      <td>57</td>\n",
       "    </tr>\n",
       "    <tr>\n",
       "      <th>1</th>\n",
       "      <td>42125000</td>\n",
       "      <td>30</td>\n",
       "      <td>PSG</td>\n",
       "      <td>Ligue 1 Uber Eats</td>\n",
       "      <td>BRA</td>\n",
       "      <td>Midfilder</td>\n",
       "      <td>324</td>\n",
       "      <td>119</td>\n",
       "    </tr>\n",
       "    <tr>\n",
       "      <th>2</th>\n",
       "      <td>34821000</td>\n",
       "      <td>35</td>\n",
       "      <td>PSG</td>\n",
       "      <td>Ligue 1 Uber Eats</td>\n",
       "      <td>ARG</td>\n",
       "      <td>Forward</td>\n",
       "      <td>585</td>\n",
       "      <td>162</td>\n",
       "    </tr>\n",
       "    <tr>\n",
       "      <th>3</th>\n",
       "      <td>19959000</td>\n",
       "      <td>31</td>\n",
       "      <td>R. Madrid</td>\n",
       "      <td>La Liga</td>\n",
       "      <td>BEL</td>\n",
       "      <td>Forward</td>\n",
       "      <td>443</td>\n",
       "      <td>120</td>\n",
       "    </tr>\n",
       "    <tr>\n",
       "      <th>4</th>\n",
       "      <td>19500000</td>\n",
       "      <td>31</td>\n",
       "      <td>Man UFC</td>\n",
       "      <td>Premier League</td>\n",
       "      <td>ESP</td>\n",
       "      <td>Goalkeeper</td>\n",
       "      <td>480</td>\n",
       "      <td>45</td>\n",
       "    </tr>\n",
       "    <tr>\n",
       "      <th>...</th>\n",
       "      <td>...</td>\n",
       "      <td>...</td>\n",
       "      <td>...</td>\n",
       "      <td>...</td>\n",
       "      <td>...</td>\n",
       "      <td>...</td>\n",
       "      <td>...</td>\n",
       "      <td>...</td>\n",
       "    </tr>\n",
       "    <tr>\n",
       "      <th>3902</th>\n",
       "      <td>3400</td>\n",
       "      <td>19</td>\n",
       "      <td>Vigo</td>\n",
       "      <td>La Liga</td>\n",
       "      <td>ESP</td>\n",
       "      <td>Defender</td>\n",
       "      <td>0</td>\n",
       "      <td>0</td>\n",
       "    </tr>\n",
       "    <tr>\n",
       "      <th>3903</th>\n",
       "      <td>3200</td>\n",
       "      <td>18</td>\n",
       "      <td>Famalicao</td>\n",
       "      <td>Primiera Liga</td>\n",
       "      <td>BRA</td>\n",
       "      <td>Goalkeeper</td>\n",
       "      <td>0</td>\n",
       "      <td>0</td>\n",
       "    </tr>\n",
       "    <tr>\n",
       "      <th>3904</th>\n",
       "      <td>2900</td>\n",
       "      <td>18</td>\n",
       "      <td>Vigo</td>\n",
       "      <td>La Liga</td>\n",
       "      <td>ESP</td>\n",
       "      <td>Forward</td>\n",
       "      <td>0</td>\n",
       "      <td>0</td>\n",
       "    </tr>\n",
       "    <tr>\n",
       "      <th>3905</th>\n",
       "      <td>2700</td>\n",
       "      <td>18</td>\n",
       "      <td>Vigo</td>\n",
       "      <td>La Liga</td>\n",
       "      <td>ESP</td>\n",
       "      <td>Defender</td>\n",
       "      <td>0</td>\n",
       "      <td>0</td>\n",
       "    </tr>\n",
       "    <tr>\n",
       "      <th>3906</th>\n",
       "      <td>1400</td>\n",
       "      <td>18</td>\n",
       "      <td>Vigo</td>\n",
       "      <td>La Liga</td>\n",
       "      <td>ESP</td>\n",
       "      <td>Defender</td>\n",
       "      <td>0</td>\n",
       "      <td>0</td>\n",
       "    </tr>\n",
       "  </tbody>\n",
       "</table>\n",
       "<p>3842 rows × 8 columns</p>\n",
       "</div>"
      ],
      "text/plain": [
       "          Wage  Age       Club             League Nation    Position  Apps  \\\n",
       "0     46427000   23        PSG  Ligue 1 Uber Eats    FRA     Forward   190   \n",
       "1     42125000   30        PSG  Ligue 1 Uber Eats    BRA   Midfilder   324   \n",
       "2     34821000   35        PSG  Ligue 1 Uber Eats    ARG     Forward   585   \n",
       "3     19959000   31  R. Madrid            La Liga    BEL     Forward   443   \n",
       "4     19500000   31    Man UFC     Premier League    ESP  Goalkeeper   480   \n",
       "...        ...  ...        ...                ...    ...         ...   ...   \n",
       "3902      3400   19       Vigo            La Liga    ESP    Defender     0   \n",
       "3903      3200   18  Famalicao      Primiera Liga    BRA  Goalkeeper     0   \n",
       "3904      2900   18       Vigo            La Liga    ESP     Forward     0   \n",
       "3905      2700   18       Vigo            La Liga    ESP    Defender     0   \n",
       "3906      1400   18       Vigo            La Liga    ESP    Defender     0   \n",
       "\n",
       "      Caps  \n",
       "0       57  \n",
       "1      119  \n",
       "2      162  \n",
       "3      120  \n",
       "4       45  \n",
       "...    ...  \n",
       "3902     0  \n",
       "3903     0  \n",
       "3904     0  \n",
       "3905     0  \n",
       "3906     0  \n",
       "\n",
       "[3842 rows x 8 columns]"
      ]
     },
     "execution_count": 26,
     "metadata": {},
     "output_type": "execute_result"
    }
   ],
   "source": [
    "df"
   ]
  },
  {
   "cell_type": "code",
   "execution_count": 27,
   "id": "2825e65d",
   "metadata": {},
   "outputs": [
    {
     "data": {
      "text/plain": [
       "numpy.int64"
      ]
     },
     "execution_count": 27,
     "metadata": {},
     "output_type": "execute_result"
    }
   ],
   "source": [
    "type(df[\"Wage\"][0])"
   ]
  },
  {
   "cell_type": "code",
   "execution_count": 29,
   "id": "810ed70a",
   "metadata": {},
   "outputs": [
    {
     "data": {
      "text/plain": [
       "Position\n",
       "Midfilder     1.630598e+06\n",
       "Forward       1.352223e+06\n",
       "Defender      1.332659e+06\n",
       "Goalkeeper    1.019950e+06\n",
       "Name: Wage, dtype: float64"
      ]
     },
     "execution_count": 29,
     "metadata": {},
     "output_type": "execute_result"
    }
   ],
   "source": [
    "#Groupd the data by position and check the mean\n",
    "df.groupby(\"Position\")[\"Wage\"].mean().sort_values(ascending = False)"
   ]
  },
  {
   "cell_type": "code",
   "execution_count": 32,
   "id": "1bd19407",
   "metadata": {},
   "outputs": [
    {
     "data": {
      "text/plain": [
       "MRT              64\n",
       "BRG              60\n",
       "VIZ              55\n",
       "Chelsea          52\n",
       "Leicester        51\n",
       "Liverpool        50\n",
       "Nottm Forest     50\n",
       "Estoril Praia    50\n",
       "Gil Vicente      49\n",
       "Famalicao        49\n",
       "Name: Club, dtype: int64"
      ]
     },
     "execution_count": 32,
     "metadata": {},
     "output_type": "execute_result"
    }
   ],
   "source": [
    "#Check the top 10 numbers of clubs\n",
    "df[\"Club\"].value_counts().sort_values(ascending = False).head(10)"
   ]
  },
  {
   "cell_type": "code",
   "execution_count": 41,
   "id": "6e16e9e5",
   "metadata": {},
   "outputs": [],
   "source": [
    "#Check the top number of Nations with the most players\n",
    "top_nations = df[\"Nation\"].value_counts().sort_values(ascending = False).head(10)"
   ]
  },
  {
   "cell_type": "code",
   "execution_count": 42,
   "id": "2d1ed027",
   "metadata": {},
   "outputs": [
    {
     "data": {
      "text/plain": [
       "ESP    431\n",
       "POR    419\n",
       "ENG    396\n",
       "FRA    351\n",
       "GER    283\n",
       "ITA    277\n",
       "BRA    231\n",
       "ARG     80\n",
       "NED     74\n",
       "DEN     45\n",
       "Name: Nation, dtype: int64"
      ]
     },
     "execution_count": 42,
     "metadata": {},
     "output_type": "execute_result"
    }
   ],
   "source": [
    "top_nations"
   ]
  },
  {
   "cell_type": "code",
   "execution_count": 43,
   "id": "21322974",
   "metadata": {},
   "outputs": [
    {
     "data": {
      "image/png": "[encoded data removed]",
      "text/plain": [
       "<Figure size 432x288 with 1 Axes>"
      ]
     },
     "metadata": {
      "needs_background": "light"
     },
     "output_type": "display_data"
    }
   ],
   "source": [
    "#Plot a bar chart to visualize the top nations by highest number of players\n",
    "top_nations.plot(kind = \"bar\", color = \"grey\")\n",
    "plt.title(\"Top 10 nations with the most players\")\n",
    "plt.xlabel(\"Nations\")\n",
    "plt.ylabel(\"Number of Players\")\n",
    "plt.show()"
   ]
  },
  {
   "cell_type": "code",
   "execution_count": 45,
   "id": "e752bb96",
   "metadata": {},
   "outputs": [
    {
     "data": {
      "text/plain": [
       "Premier League       861\n",
       "Primiera Liga        736\n",
       "Serie A              669\n",
       "La Liga              573\n",
       "Bundesliga           542\n",
       "Ligue 1 Uber Eats    461\n",
       "Name: League, dtype: int64"
      ]
     },
     "execution_count": 45,
     "metadata": {},
     "output_type": "execute_result"
    }
   ],
   "source": [
    "#GEt the value counts for the Leagues\n",
    "df[\"League\"].value_counts()"
   ]
  },
  {
   "cell_type": "code",
   "execution_count": 48,
   "id": "1055635f",
   "metadata": {},
   "outputs": [
    {
     "data": {
      "image/png": "[encoded data removed]",
      "text/plain": [
       "<Figure size 432x288 with 1 Axes>"
      ]
     },
     "metadata": {
      "needs_background": "light"
     },
     "output_type": "display_data"
    }
   ],
   "source": [
    "plt.scatter(df[\"Age\"],df[\"Caps\"], alpha = 0.5, color = \"green\")\n",
    "plt.title(\"Age vs International Caps\")\n",
    "plt.xlabel(\"Age\")\n",
    "plt.ylabel(\"International Appearances\")\n",
    "plt.show()"
   ]
  },
  {
   "cell_type": "code",
   "execution_count": 53,
   "id": "4d5004d6",
   "metadata": {},
   "outputs": [
    {
     "data": {
      "text/html": [
       "<div>\n",
       "<style scoped>\n",
       "    .dataframe tbody tr th:only-of-type {\n",
       "        vertical-align: middle;\n",
       "    }\n",
       "\n",
       "    .dataframe tbody tr th {\n",
       "        vertical-align: top;\n",
       "    }\n",
       "\n",
       "    .dataframe thead th {\n",
       "        text-align: right;\n",
       "    }\n",
       "</style>\n",
       "<table border=\"1\" class=\"dataframe\">\n",
       "  <thead>\n",
       "    <tr style=\"text-align: right;\">\n",
       "      <th></th>\n",
       "      <th>Club</th>\n",
       "      <th>Apps</th>\n",
       "      <th>Age</th>\n",
       "    </tr>\n",
       "  </thead>\n",
       "  <tbody>\n",
       "    <tr>\n",
       "      <th>3</th>\n",
       "      <td>AC Ajaccio</td>\n",
       "      <td>5583</td>\n",
       "      <td>28.518519</td>\n",
       "    </tr>\n",
       "    <tr>\n",
       "      <th>76</th>\n",
       "      <td>R. Madrid</td>\n",
       "      <td>6085</td>\n",
       "      <td>27.347826</td>\n",
       "    </tr>\n",
       "    <tr>\n",
       "      <th>31</th>\n",
       "      <td>Clermont</td>\n",
       "      <td>3257</td>\n",
       "      <td>27.333333</td>\n",
       "    </tr>\n",
       "    <tr>\n",
       "      <th>79</th>\n",
       "      <td>Real Hispalis</td>\n",
       "      <td>6584</td>\n",
       "      <td>27.206897</td>\n",
       "    </tr>\n",
       "    <tr>\n",
       "      <th>96</th>\n",
       "      <td>Strasbourg</td>\n",
       "      <td>4322</td>\n",
       "      <td>27.045455</td>\n",
       "    </tr>\n",
       "    <tr>\n",
       "      <th>...</th>\n",
       "      <td>...</td>\n",
       "      <td>...</td>\n",
       "      <td>...</td>\n",
       "    </tr>\n",
       "    <tr>\n",
       "      <th>17</th>\n",
       "      <td>Benfica</td>\n",
       "      <td>4072</td>\n",
       "      <td>22.000000</td>\n",
       "    </tr>\n",
       "    <tr>\n",
       "      <th>45</th>\n",
       "      <td>Famalicao</td>\n",
       "      <td>3175</td>\n",
       "      <td>21.918367</td>\n",
       "    </tr>\n",
       "    <tr>\n",
       "      <th>38</th>\n",
       "      <td>Estoril Praia</td>\n",
       "      <td>3320</td>\n",
       "      <td>21.860000</td>\n",
       "    </tr>\n",
       "    <tr>\n",
       "      <th>13</th>\n",
       "      <td>BRG</td>\n",
       "      <td>4217</td>\n",
       "      <td>21.800000</td>\n",
       "    </tr>\n",
       "    <tr>\n",
       "      <th>103</th>\n",
       "      <td>VIZ</td>\n",
       "      <td>3040</td>\n",
       "      <td>21.345455</td>\n",
       "    </tr>\n",
       "  </tbody>\n",
       "</table>\n",
       "<p>116 rows × 3 columns</p>\n",
       "</div>"
      ],
      "text/plain": [
       "              Club  Apps        Age\n",
       "3       AC Ajaccio  5583  28.518519\n",
       "76       R. Madrid  6085  27.347826\n",
       "31        Clermont  3257  27.333333\n",
       "79   Real Hispalis  6584  27.206897\n",
       "96      Strasbourg  4322  27.045455\n",
       "..             ...   ...        ...\n",
       "17         Benfica  4072  22.000000\n",
       "45       Famalicao  3175  21.918367\n",
       "38   Estoril Praia  3320  21.860000\n",
       "13             BRG  4217  21.800000\n",
       "103            VIZ  3040  21.345455\n",
       "\n",
       "[116 rows x 3 columns]"
      ]
     },
     "execution_count": 53,
     "metadata": {},
     "output_type": "execute_result"
    }
   ],
   "source": [
    "#Group by club and calculate the total number of appearances average age\n",
    "df.groupby(\"Club\").agg({\"Apps\": \"sum\", \"Age\": \"mean\"}).reset_index().sort_values(by = \"Age\", ascending = False)"
   ]
  },
  {
   "cell_type": "code",
   "execution_count": 62,
   "id": "72406403",
   "metadata": {},
   "outputs": [
    {
     "data": {
      "text/html": [
       "<div>\n",
       "<style scoped>\n",
       "    .dataframe tbody tr th:only-of-type {\n",
       "        vertical-align: middle;\n",
       "    }\n",
       "\n",
       "    .dataframe tbody tr th {\n",
       "        vertical-align: top;\n",
       "    }\n",
       "\n",
       "    .dataframe thead th {\n",
       "        text-align: right;\n",
       "    }\n",
       "</style>\n",
       "<table border=\"1\" class=\"dataframe\">\n",
       "  <thead>\n",
       "    <tr style=\"text-align: right;\">\n",
       "      <th></th>\n",
       "      <th>Wage</th>\n",
       "      <th>Caps</th>\n",
       "    </tr>\n",
       "    <tr>\n",
       "      <th>Position</th>\n",
       "      <th></th>\n",
       "      <th></th>\n",
       "    </tr>\n",
       "  </thead>\n",
       "  <tbody>\n",
       "    <tr>\n",
       "      <th>Defender</th>\n",
       "      <td>18810000</td>\n",
       "      <td>8.821625</td>\n",
       "    </tr>\n",
       "    <tr>\n",
       "      <th>Goalkeeper</th>\n",
       "      <td>19500000</td>\n",
       "      <td>7.200466</td>\n",
       "    </tr>\n",
       "    <tr>\n",
       "      <th>Midfilder</th>\n",
       "      <td>42125000</td>\n",
       "      <td>10.233333</td>\n",
       "    </tr>\n",
       "    <tr>\n",
       "      <th>Forward</th>\n",
       "      <td>46427000</td>\n",
       "      <td>8.906212</td>\n",
       "    </tr>\n",
       "  </tbody>\n",
       "</table>\n",
       "</div>"
      ],
      "text/plain": [
       "                Wage       Caps\n",
       "Position                       \n",
       "Defender    18810000   8.821625\n",
       "Goalkeeper  19500000   7.200466\n",
       "Midfilder   42125000  10.233333\n",
       "Forward     46427000   8.906212"
      ]
     },
     "execution_count": 62,
     "metadata": {},
     "output_type": "execute_result"
    }
   ],
   "source": [
    "#Group by position and find the manimum of wage and frequency of international appearanceinternational appearances\n",
    "df.groupby(\"Position\").agg({\"Wage\" :\"max\", \"Caps\" : \"mean\"}).sort_values(by = \"Wage\", ascending = True)"
   ]
  },
  {
   "cell_type": "code",
   "execution_count": 72,
   "id": "5f75981c",
   "metadata": {},
   "outputs": [],
   "source": [
    "#plot a barchart to display the top five clubs of the highest average age\n",
    "top_club_avg_age= df.groupby(\"Club\")[\"Age\"].mean().nlargest(5)"
   ]
  },
  {
   "cell_type": "code",
   "execution_count": 73,
   "id": "8e06d7f0",
   "metadata": {},
   "outputs": [
    {
     "data": {
      "text/plain": [
       "Club\n",
       "AC Ajaccio       28.518519\n",
       "R. Madrid        27.347826\n",
       "Clermont         27.333333\n",
       "Real Hispalis    27.206897\n",
       "Strasbourg       27.045455\n",
       "Name: Age, dtype: float64"
      ]
     },
     "execution_count": 73,
     "metadata": {},
     "output_type": "execute_result"
    }
   ],
   "source": [
    "top_club_avg_age"
   ]
  },
  {
   "cell_type": "code",
   "execution_count": 78,
   "id": "20bdacab",
   "metadata": {},
   "outputs": [
    {
     "data": {
      "image/png": "[encoded data removed]",
      "text/plain": [
       "<Figure size 432x288 with 1 Axes>"
      ]
     },
     "metadata": {
      "needs_background": "light"
     },
     "output_type": "display_data"
    }
   ],
   "source": [
    "top_club_avg_age.plot(kind = \"bar\", color = \"brown\")\n",
    "plt.title(\"Top 5 Clubs with Average Age\")\n",
    "plt.xlabel(\"Club\")\n",
    "plt.ylabel(\"Average Age\")\n",
    "plt.show()"
   ]
  },
  {
   "cell_type": "code",
   "execution_count": 79,
   "id": "34efa8c1",
   "metadata": {},
   "outputs": [],
   "source": [
    "#piechart that shows distribution of players across leagues\n",
    "league_distribution = df[\"League\"].value_counts()"
   ]
  },
  {
   "cell_type": "code",
   "execution_count": 81,
   "id": "13b8c404",
   "metadata": {},
   "outputs": [
    {
     "data": {
      "text/plain": [
       "Premier League       861\n",
       "Primiera Liga        736\n",
       "Serie A              669\n",
       "La Liga              573\n",
       "Bundesliga           542\n",
       "Ligue 1 Uber Eats    461\n",
       "Name: League, dtype: int64"
      ]
     },
     "execution_count": 81,
     "metadata": {},
     "output_type": "execute_result"
    }
   ],
   "source": [
    "league_distribution"
   ]
  },
  {
   "cell_type": "code",
   "execution_count": 110,
   "id": "cbc37888",
   "metadata": {},
   "outputs": [],
   "source": [
    "explode = [0.05, 0, 0, 0, 0, 0]"
   ]
  },
  {
   "cell_type": "code",
   "execution_count": 111,
   "id": "b6f6c8a4",
   "metadata": {},
   "outputs": [
    {
     "data": {
      "image/png": "[encoded data removed]",
      "text/plain": [
       "<Figure size 432x288 with 1 Axes>"
      ]
     },
     "metadata": {},
     "output_type": "display_data"
    }
   ],
   "source": [
    "plt.pie(league_distribution, labels= league_distribution.index,  autopct =\"%1.1u%%\", startangle = 90, explode = explode)\n",
    "plt.title(\"Distribution of Players Across Leagues\")\n",
    "plt.show()"
   ]
  },
  {
   "cell_type": "code",
   "execution_count": 112,
   "id": "a81be308",
   "metadata": {},
   "outputs": [],
   "source": [
    "#total number of appearances by each club"
   ]
  },
  {
   "cell_type": "code",
   "execution_count": 123,
   "id": "4042e74a",
   "metadata": {},
   "outputs": [],
   "source": [
    "club_apps = df.groupby(\"Club\")[\"Apps\"].sum().head(10)"
   ]
  },
  {
   "cell_type": "code",
   "execution_count": 125,
   "id": "b66fca54",
   "metadata": {},
   "outputs": [
    {
     "data": {
      "image/png": "[encoded data removed]",
      "text/plain": [
       "<Figure size 432x288 with 1 Axes>"
      ]
     },
     "metadata": {
      "needs_background": "light"
     },
     "output_type": "display_data"
    }
   ],
   "source": [
    "club_apps.plot(kind = \"bar\", stacked = True, colormap = \"viridis\")\n",
    "plt.title(\"Total Appearances by Clubs\")\n",
    "plt.xlabel(\"Club\")\n",
    "plt.ylabel(\"Total Number of Appearances\")\n",
    "plt.show()"
   ]
  },
  {
   "cell_type": "code",
   "execution_count": 126,
   "id": "8d2f4254",
   "metadata": {},
   "outputs": [],
   "source": [
    "#Data has been analysed and now time for the Modeling"
   ]
  },
  {
   "cell_type": "code",
   "execution_count": 140,
   "id": "d247fbea",
   "metadata": {},
   "outputs": [],
   "source": [
    "df = pd.read_csv(\"SalaryPrediction.csv\")"
   ]
  },
  {
   "cell_type": "code",
   "execution_count": 141,
   "id": "7bd2906d",
   "metadata": {},
   "outputs": [
    {
     "data": {
      "text/html": [
       "<div>\n",
       "<style scoped>\n",
       "    .dataframe tbody tr th:only-of-type {\n",
       "        vertical-align: middle;\n",
       "    }\n",
       "\n",
       "    .dataframe tbody tr th {\n",
       "        vertical-align: top;\n",
       "    }\n",
       "\n",
       "    .dataframe thead th {\n",
       "        text-align: right;\n",
       "    }\n",
       "</style>\n",
       "<table border=\"1\" class=\"dataframe\">\n",
       "  <thead>\n",
       "    <tr style=\"text-align: right;\">\n",
       "      <th></th>\n",
       "      <th>Wage</th>\n",
       "      <th>Age</th>\n",
       "      <th>Club</th>\n",
       "      <th>League</th>\n",
       "      <th>Nation</th>\n",
       "      <th>Position</th>\n",
       "      <th>Apps</th>\n",
       "      <th>Caps</th>\n",
       "    </tr>\n",
       "  </thead>\n",
       "  <tbody>\n",
       "    <tr>\n",
       "      <th>0</th>\n",
       "      <td>46,427,000</td>\n",
       "      <td>23</td>\n",
       "      <td>PSG</td>\n",
       "      <td>Ligue 1 Uber Eats</td>\n",
       "      <td>FRA</td>\n",
       "      <td>Forward</td>\n",
       "      <td>190</td>\n",
       "      <td>57</td>\n",
       "    </tr>\n",
       "    <tr>\n",
       "      <th>1</th>\n",
       "      <td>42,125,000</td>\n",
       "      <td>30</td>\n",
       "      <td>PSG</td>\n",
       "      <td>Ligue 1 Uber Eats</td>\n",
       "      <td>BRA</td>\n",
       "      <td>Midfilder</td>\n",
       "      <td>324</td>\n",
       "      <td>119</td>\n",
       "    </tr>\n",
       "    <tr>\n",
       "      <th>2</th>\n",
       "      <td>34,821,000</td>\n",
       "      <td>35</td>\n",
       "      <td>PSG</td>\n",
       "      <td>Ligue 1 Uber Eats</td>\n",
       "      <td>ARG</td>\n",
       "      <td>Forward</td>\n",
       "      <td>585</td>\n",
       "      <td>162</td>\n",
       "    </tr>\n",
       "    <tr>\n",
       "      <th>3</th>\n",
       "      <td>19,959,000</td>\n",
       "      <td>31</td>\n",
       "      <td>R. Madrid</td>\n",
       "      <td>La Liga</td>\n",
       "      <td>BEL</td>\n",
       "      <td>Forward</td>\n",
       "      <td>443</td>\n",
       "      <td>120</td>\n",
       "    </tr>\n",
       "    <tr>\n",
       "      <th>4</th>\n",
       "      <td>19,500,000</td>\n",
       "      <td>31</td>\n",
       "      <td>Man UFC</td>\n",
       "      <td>Premier League</td>\n",
       "      <td>ESP</td>\n",
       "      <td>Goalkeeper</td>\n",
       "      <td>480</td>\n",
       "      <td>45</td>\n",
       "    </tr>\n",
       "    <tr>\n",
       "      <th>...</th>\n",
       "      <td>...</td>\n",
       "      <td>...</td>\n",
       "      <td>...</td>\n",
       "      <td>...</td>\n",
       "      <td>...</td>\n",
       "      <td>...</td>\n",
       "      <td>...</td>\n",
       "      <td>...</td>\n",
       "    </tr>\n",
       "    <tr>\n",
       "      <th>3902</th>\n",
       "      <td>3,400</td>\n",
       "      <td>19</td>\n",
       "      <td>Vigo</td>\n",
       "      <td>La Liga</td>\n",
       "      <td>ESP</td>\n",
       "      <td>Defender</td>\n",
       "      <td>0</td>\n",
       "      <td>0</td>\n",
       "    </tr>\n",
       "    <tr>\n",
       "      <th>3903</th>\n",
       "      <td>3,200</td>\n",
       "      <td>18</td>\n",
       "      <td>Famalicao</td>\n",
       "      <td>Primiera Liga</td>\n",
       "      <td>BRA</td>\n",
       "      <td>Goalkeeper</td>\n",
       "      <td>0</td>\n",
       "      <td>0</td>\n",
       "    </tr>\n",
       "    <tr>\n",
       "      <th>3904</th>\n",
       "      <td>2,900</td>\n",
       "      <td>18</td>\n",
       "      <td>Vigo</td>\n",
       "      <td>La Liga</td>\n",
       "      <td>ESP</td>\n",
       "      <td>Forward</td>\n",
       "      <td>0</td>\n",
       "      <td>0</td>\n",
       "    </tr>\n",
       "    <tr>\n",
       "      <th>3905</th>\n",
       "      <td>2,700</td>\n",
       "      <td>18</td>\n",
       "      <td>Vigo</td>\n",
       "      <td>La Liga</td>\n",
       "      <td>ESP</td>\n",
       "      <td>Defender</td>\n",
       "      <td>0</td>\n",
       "      <td>0</td>\n",
       "    </tr>\n",
       "    <tr>\n",
       "      <th>3906</th>\n",
       "      <td>1,400</td>\n",
       "      <td>18</td>\n",
       "      <td>Vigo</td>\n",
       "      <td>La Liga</td>\n",
       "      <td>ESP</td>\n",
       "      <td>Defender</td>\n",
       "      <td>0</td>\n",
       "      <td>0</td>\n",
       "    </tr>\n",
       "  </tbody>\n",
       "</table>\n",
       "<p>3907 rows × 8 columns</p>\n",
       "</div>"
      ],
      "text/plain": [
       "            Wage  Age       Club             League Nation    Position  Apps  \\\n",
       "0     46,427,000   23        PSG  Ligue 1 Uber Eats    FRA     Forward   190   \n",
       "1     42,125,000   30        PSG  Ligue 1 Uber Eats    BRA   Midfilder   324   \n",
       "2     34,821,000   35        PSG  Ligue 1 Uber Eats    ARG     Forward   585   \n",
       "3     19,959,000   31  R. Madrid            La Liga    BEL     Forward   443   \n",
       "4     19,500,000   31    Man UFC     Premier League    ESP  Goalkeeper   480   \n",
       "...          ...  ...        ...                ...    ...         ...   ...   \n",
       "3902       3,400   19       Vigo            La Liga    ESP    Defender     0   \n",
       "3903       3,200   18  Famalicao      Primiera Liga    BRA  Goalkeeper     0   \n",
       "3904       2,900   18       Vigo            La Liga    ESP     Forward     0   \n",
       "3905       2,700   18       Vigo            La Liga    ESP    Defender     0   \n",
       "3906       1,400   18       Vigo            La Liga    ESP    Defender     0   \n",
       "\n",
       "      Caps  \n",
       "0       57  \n",
       "1      119  \n",
       "2      162  \n",
       "3      120  \n",
       "4       45  \n",
       "...    ...  \n",
       "3902     0  \n",
       "3903     0  \n",
       "3904     0  \n",
       "3905     0  \n",
       "3906     0  \n",
       "\n",
       "[3907 rows x 8 columns]"
      ]
     },
     "execution_count": 141,
     "metadata": {},
     "output_type": "execute_result"
    }
   ],
   "source": [
    "df"
   ]
  },
  {
   "cell_type": "code",
   "execution_count": 142,
   "id": "c49d52e4",
   "metadata": {},
   "outputs": [],
   "source": [
    "df = df[[\"Age\", \"League\", \"Apps\", \"Caps\", \"Wage\"]]"
   ]
  },
  {
   "cell_type": "code",
   "execution_count": 143,
   "id": "85302a4a",
   "metadata": {},
   "outputs": [
    {
     "data": {
      "text/html": [
       "<div>\n",
       "<style scoped>\n",
       "    .dataframe tbody tr th:only-of-type {\n",
       "        vertical-align: middle;\n",
       "    }\n",
       "\n",
       "    .dataframe tbody tr th {\n",
       "        vertical-align: top;\n",
       "    }\n",
       "\n",
       "    .dataframe thead th {\n",
       "        text-align: right;\n",
       "    }\n",
       "</style>\n",
       "<table border=\"1\" class=\"dataframe\">\n",
       "  <thead>\n",
       "    <tr style=\"text-align: right;\">\n",
       "      <th></th>\n",
       "      <th>Age</th>\n",
       "      <th>League</th>\n",
       "      <th>Apps</th>\n",
       "      <th>Caps</th>\n",
       "      <th>Wage</th>\n",
       "    </tr>\n",
       "  </thead>\n",
       "  <tbody>\n",
       "    <tr>\n",
       "      <th>0</th>\n",
       "      <td>23</td>\n",
       "      <td>Ligue 1 Uber Eats</td>\n",
       "      <td>190</td>\n",
       "      <td>57</td>\n",
       "      <td>46,427,000</td>\n",
       "    </tr>\n",
       "    <tr>\n",
       "      <th>1</th>\n",
       "      <td>30</td>\n",
       "      <td>Ligue 1 Uber Eats</td>\n",
       "      <td>324</td>\n",
       "      <td>119</td>\n",
       "      <td>42,125,000</td>\n",
       "    </tr>\n",
       "    <tr>\n",
       "      <th>2</th>\n",
       "      <td>35</td>\n",
       "      <td>Ligue 1 Uber Eats</td>\n",
       "      <td>585</td>\n",
       "      <td>162</td>\n",
       "      <td>34,821,000</td>\n",
       "    </tr>\n",
       "    <tr>\n",
       "      <th>3</th>\n",
       "      <td>31</td>\n",
       "      <td>La Liga</td>\n",
       "      <td>443</td>\n",
       "      <td>120</td>\n",
       "      <td>19,959,000</td>\n",
       "    </tr>\n",
       "    <tr>\n",
       "      <th>4</th>\n",
       "      <td>31</td>\n",
       "      <td>Premier League</td>\n",
       "      <td>480</td>\n",
       "      <td>45</td>\n",
       "      <td>19,500,000</td>\n",
       "    </tr>\n",
       "    <tr>\n",
       "      <th>...</th>\n",
       "      <td>...</td>\n",
       "      <td>...</td>\n",
       "      <td>...</td>\n",
       "      <td>...</td>\n",
       "      <td>...</td>\n",
       "    </tr>\n",
       "    <tr>\n",
       "      <th>3902</th>\n",
       "      <td>19</td>\n",
       "      <td>La Liga</td>\n",
       "      <td>0</td>\n",
       "      <td>0</td>\n",
       "      <td>3,400</td>\n",
       "    </tr>\n",
       "    <tr>\n",
       "      <th>3903</th>\n",
       "      <td>18</td>\n",
       "      <td>Primiera Liga</td>\n",
       "      <td>0</td>\n",
       "      <td>0</td>\n",
       "      <td>3,200</td>\n",
       "    </tr>\n",
       "    <tr>\n",
       "      <th>3904</th>\n",
       "      <td>18</td>\n",
       "      <td>La Liga</td>\n",
       "      <td>0</td>\n",
       "      <td>0</td>\n",
       "      <td>2,900</td>\n",
       "    </tr>\n",
       "    <tr>\n",
       "      <th>3905</th>\n",
       "      <td>18</td>\n",
       "      <td>La Liga</td>\n",
       "      <td>0</td>\n",
       "      <td>0</td>\n",
       "      <td>2,700</td>\n",
       "    </tr>\n",
       "    <tr>\n",
       "      <th>3906</th>\n",
       "      <td>18</td>\n",
       "      <td>La Liga</td>\n",
       "      <td>0</td>\n",
       "      <td>0</td>\n",
       "      <td>1,400</td>\n",
       "    </tr>\n",
       "  </tbody>\n",
       "</table>\n",
       "<p>3907 rows × 5 columns</p>\n",
       "</div>"
      ],
      "text/plain": [
       "      Age             League  Apps  Caps        Wage\n",
       "0      23  Ligue 1 Uber Eats   190    57  46,427,000\n",
       "1      30  Ligue 1 Uber Eats   324   119  42,125,000\n",
       "2      35  Ligue 1 Uber Eats   585   162  34,821,000\n",
       "3      31            La Liga   443   120  19,959,000\n",
       "4      31     Premier League   480    45  19,500,000\n",
       "...   ...                ...   ...   ...         ...\n",
       "3902   19            La Liga     0     0       3,400\n",
       "3903   18      Primiera Liga     0     0       3,200\n",
       "3904   18            La Liga     0     0       2,900\n",
       "3905   18            La Liga     0     0       2,700\n",
       "3906   18            La Liga     0     0       1,400\n",
       "\n",
       "[3907 rows x 5 columns]"
      ]
     },
     "execution_count": 143,
     "metadata": {},
     "output_type": "execute_result"
    }
   ],
   "source": [
    "df"
   ]
  },
  {
   "cell_type": "code",
   "execution_count": 144,
   "id": "9620ca95",
   "metadata": {},
   "outputs": [],
   "source": [
    "#Change the Leagues dataypes into integers "
   ]
  },
  {
   "cell_type": "code",
   "execution_count": 145,
   "id": "8b8b85ee",
   "metadata": {},
   "outputs": [
    {
     "name": "stderr",
     "output_type": "stream",
     "text": [
      "/var/folders/8h/fw8xm8fj4yg5vj7g3dk_ykkw0000gn/T/ipykernel_81706/2605728404.py:3: SettingWithCopyWarning: \n",
      "A value is trying to be set on a copy of a slice from a DataFrame.\n",
      "Try using .loc[row_indexer,col_indexer] = value instead\n",
      "\n",
      "See the caveats in the documentation: https://pandas.pydata.org/pandas-docs/stable/user_guide/indexing.html#returning-a-view-versus-a-copy\n",
      "  df[\"League\"] = labelencoder.fit_transform(df[\"League\"])\n"
     ]
    }
   ],
   "source": [
    "from sklearn import preprocessing\n",
    "labelencoder = preprocessing.LabelEncoder()\n",
    "df[\"League\"] = labelencoder.fit_transform(df[\"League\"])"
   ]
  },
  {
   "cell_type": "code",
   "execution_count": 146,
   "id": "0d4b43b7",
   "metadata": {},
   "outputs": [
    {
     "data": {
      "text/html": [
       "<div>\n",
       "<style scoped>\n",
       "    .dataframe tbody tr th:only-of-type {\n",
       "        vertical-align: middle;\n",
       "    }\n",
       "\n",
       "    .dataframe tbody tr th {\n",
       "        vertical-align: top;\n",
       "    }\n",
       "\n",
       "    .dataframe thead th {\n",
       "        text-align: right;\n",
       "    }\n",
       "</style>\n",
       "<table border=\"1\" class=\"dataframe\">\n",
       "  <thead>\n",
       "    <tr style=\"text-align: right;\">\n",
       "      <th></th>\n",
       "      <th>Age</th>\n",
       "      <th>League</th>\n",
       "      <th>Apps</th>\n",
       "      <th>Caps</th>\n",
       "      <th>Wage</th>\n",
       "    </tr>\n",
       "  </thead>\n",
       "  <tbody>\n",
       "    <tr>\n",
       "      <th>0</th>\n",
       "      <td>23</td>\n",
       "      <td>2</td>\n",
       "      <td>190</td>\n",
       "      <td>57</td>\n",
       "      <td>46,427,000</td>\n",
       "    </tr>\n",
       "    <tr>\n",
       "      <th>1</th>\n",
       "      <td>30</td>\n",
       "      <td>2</td>\n",
       "      <td>324</td>\n",
       "      <td>119</td>\n",
       "      <td>42,125,000</td>\n",
       "    </tr>\n",
       "    <tr>\n",
       "      <th>2</th>\n",
       "      <td>35</td>\n",
       "      <td>2</td>\n",
       "      <td>585</td>\n",
       "      <td>162</td>\n",
       "      <td>34,821,000</td>\n",
       "    </tr>\n",
       "    <tr>\n",
       "      <th>3</th>\n",
       "      <td>31</td>\n",
       "      <td>1</td>\n",
       "      <td>443</td>\n",
       "      <td>120</td>\n",
       "      <td>19,959,000</td>\n",
       "    </tr>\n",
       "    <tr>\n",
       "      <th>4</th>\n",
       "      <td>31</td>\n",
       "      <td>3</td>\n",
       "      <td>480</td>\n",
       "      <td>45</td>\n",
       "      <td>19,500,000</td>\n",
       "    </tr>\n",
       "    <tr>\n",
       "      <th>...</th>\n",
       "      <td>...</td>\n",
       "      <td>...</td>\n",
       "      <td>...</td>\n",
       "      <td>...</td>\n",
       "      <td>...</td>\n",
       "    </tr>\n",
       "    <tr>\n",
       "      <th>3902</th>\n",
       "      <td>19</td>\n",
       "      <td>1</td>\n",
       "      <td>0</td>\n",
       "      <td>0</td>\n",
       "      <td>3,400</td>\n",
       "    </tr>\n",
       "    <tr>\n",
       "      <th>3903</th>\n",
       "      <td>18</td>\n",
       "      <td>4</td>\n",
       "      <td>0</td>\n",
       "      <td>0</td>\n",
       "      <td>3,200</td>\n",
       "    </tr>\n",
       "    <tr>\n",
       "      <th>3904</th>\n",
       "      <td>18</td>\n",
       "      <td>1</td>\n",
       "      <td>0</td>\n",
       "      <td>0</td>\n",
       "      <td>2,900</td>\n",
       "    </tr>\n",
       "    <tr>\n",
       "      <th>3905</th>\n",
       "      <td>18</td>\n",
       "      <td>1</td>\n",
       "      <td>0</td>\n",
       "      <td>0</td>\n",
       "      <td>2,700</td>\n",
       "    </tr>\n",
       "    <tr>\n",
       "      <th>3906</th>\n",
       "      <td>18</td>\n",
       "      <td>1</td>\n",
       "      <td>0</td>\n",
       "      <td>0</td>\n",
       "      <td>1,400</td>\n",
       "    </tr>\n",
       "  </tbody>\n",
       "</table>\n",
       "<p>3907 rows × 5 columns</p>\n",
       "</div>"
      ],
      "text/plain": [
       "      Age  League  Apps  Caps        Wage\n",
       "0      23       2   190    57  46,427,000\n",
       "1      30       2   324   119  42,125,000\n",
       "2      35       2   585   162  34,821,000\n",
       "3      31       1   443   120  19,959,000\n",
       "4      31       3   480    45  19,500,000\n",
       "...   ...     ...   ...   ...         ...\n",
       "3902   19       1     0     0       3,400\n",
       "3903   18       4     0     0       3,200\n",
       "3904   18       1     0     0       2,900\n",
       "3905   18       1     0     0       2,700\n",
       "3906   18       1     0     0       1,400\n",
       "\n",
       "[3907 rows x 5 columns]"
      ]
     },
     "execution_count": 146,
     "metadata": {},
     "output_type": "execute_result"
    }
   ],
   "source": [
    "df"
   ]
  },
  {
   "cell_type": "code",
   "execution_count": 147,
   "id": "02f464e4",
   "metadata": {},
   "outputs": [],
   "source": [
    "#We need to make wages numeric"
   ]
  },
  {
   "cell_type": "code",
   "execution_count": 154,
   "id": "18286ab0",
   "metadata": {},
   "outputs": [
    {
     "name": "stderr",
     "output_type": "stream",
     "text": [
      "/var/folders/8h/fw8xm8fj4yg5vj7g3dk_ykkw0000gn/T/ipykernel_81706/1571269604.py:1: SettingWithCopyWarning: \n",
      "A value is trying to be set on a copy of a slice from a DataFrame.\n",
      "Try using .loc[row_indexer,col_indexer] = value instead\n",
      "\n",
      "See the caveats in the documentation: https://pandas.pydata.org/pandas-docs/stable/user_guide/indexing.html#returning-a-view-versus-a-copy\n",
      "  df[\"Wage\"] = df[\"Wage\"].replace({\",\" : \"\"}, regex = True).astype(int)\n"
     ]
    }
   ],
   "source": [
    "df[\"Wage\"] = df[\"Wage\"].replace({\",\" : \"\"}, regex = True).astype(int)"
   ]
  },
  {
   "cell_type": "code",
   "execution_count": 155,
   "id": "4e953337",
   "metadata": {},
   "outputs": [
    {
     "data": {
      "text/html": [
       "<div>\n",
       "<style scoped>\n",
       "    .dataframe tbody tr th:only-of-type {\n",
       "        vertical-align: middle;\n",
       "    }\n",
       "\n",
       "    .dataframe tbody tr th {\n",
       "        vertical-align: top;\n",
       "    }\n",
       "\n",
       "    .dataframe thead th {\n",
       "        text-align: right;\n",
       "    }\n",
       "</style>\n",
       "<table border=\"1\" class=\"dataframe\">\n",
       "  <thead>\n",
       "    <tr style=\"text-align: right;\">\n",
       "      <th></th>\n",
       "      <th>Age</th>\n",
       "      <th>League</th>\n",
       "      <th>Apps</th>\n",
       "      <th>Caps</th>\n",
       "      <th>Wage</th>\n",
       "    </tr>\n",
       "  </thead>\n",
       "  <tbody>\n",
       "    <tr>\n",
       "      <th>0</th>\n",
       "      <td>23</td>\n",
       "      <td>2</td>\n",
       "      <td>190</td>\n",
       "      <td>57</td>\n",
       "      <td>46427000</td>\n",
       "    </tr>\n",
       "    <tr>\n",
       "      <th>1</th>\n",
       "      <td>30</td>\n",
       "      <td>2</td>\n",
       "      <td>324</td>\n",
       "      <td>119</td>\n",
       "      <td>42125000</td>\n",
       "    </tr>\n",
       "    <tr>\n",
       "      <th>2</th>\n",
       "      <td>35</td>\n",
       "      <td>2</td>\n",
       "      <td>585</td>\n",
       "      <td>162</td>\n",
       "      <td>34821000</td>\n",
       "    </tr>\n",
       "    <tr>\n",
       "      <th>3</th>\n",
       "      <td>31</td>\n",
       "      <td>1</td>\n",
       "      <td>443</td>\n",
       "      <td>120</td>\n",
       "      <td>19959000</td>\n",
       "    </tr>\n",
       "    <tr>\n",
       "      <th>4</th>\n",
       "      <td>31</td>\n",
       "      <td>3</td>\n",
       "      <td>480</td>\n",
       "      <td>45</td>\n",
       "      <td>19500000</td>\n",
       "    </tr>\n",
       "    <tr>\n",
       "      <th>...</th>\n",
       "      <td>...</td>\n",
       "      <td>...</td>\n",
       "      <td>...</td>\n",
       "      <td>...</td>\n",
       "      <td>...</td>\n",
       "    </tr>\n",
       "    <tr>\n",
       "      <th>3902</th>\n",
       "      <td>19</td>\n",
       "      <td>1</td>\n",
       "      <td>0</td>\n",
       "      <td>0</td>\n",
       "      <td>3400</td>\n",
       "    </tr>\n",
       "    <tr>\n",
       "      <th>3903</th>\n",
       "      <td>18</td>\n",
       "      <td>4</td>\n",
       "      <td>0</td>\n",
       "      <td>0</td>\n",
       "      <td>3200</td>\n",
       "    </tr>\n",
       "    <tr>\n",
       "      <th>3904</th>\n",
       "      <td>18</td>\n",
       "      <td>1</td>\n",
       "      <td>0</td>\n",
       "      <td>0</td>\n",
       "      <td>2900</td>\n",
       "    </tr>\n",
       "    <tr>\n",
       "      <th>3905</th>\n",
       "      <td>18</td>\n",
       "      <td>1</td>\n",
       "      <td>0</td>\n",
       "      <td>0</td>\n",
       "      <td>2700</td>\n",
       "    </tr>\n",
       "    <tr>\n",
       "      <th>3906</th>\n",
       "      <td>18</td>\n",
       "      <td>1</td>\n",
       "      <td>0</td>\n",
       "      <td>0</td>\n",
       "      <td>1400</td>\n",
       "    </tr>\n",
       "  </tbody>\n",
       "</table>\n",
       "<p>3907 rows × 5 columns</p>\n",
       "</div>"
      ],
      "text/plain": [
       "      Age  League  Apps  Caps      Wage\n",
       "0      23       2   190    57  46427000\n",
       "1      30       2   324   119  42125000\n",
       "2      35       2   585   162  34821000\n",
       "3      31       1   443   120  19959000\n",
       "4      31       3   480    45  19500000\n",
       "...   ...     ...   ...   ...       ...\n",
       "3902   19       1     0     0      3400\n",
       "3903   18       4     0     0      3200\n",
       "3904   18       1     0     0      2900\n",
       "3905   18       1     0     0      2700\n",
       "3906   18       1     0     0      1400\n",
       "\n",
       "[3907 rows x 5 columns]"
      ]
     },
     "execution_count": 155,
     "metadata": {},
     "output_type": "execute_result"
    }
   ],
   "source": [
    "df"
   ]
  },
  {
   "cell_type": "code",
   "execution_count": 158,
   "id": "007d7b07",
   "metadata": {},
   "outputs": [
    {
     "data": {
      "text/plain": [
       "numpy.int64"
      ]
     },
     "execution_count": 158,
     "metadata": {},
     "output_type": "execute_result"
    }
   ],
   "source": [
    "type(df[\"Wage\"][0])"
   ]
  },
  {
   "cell_type": "code",
   "execution_count": 159,
   "id": "fa4afcc6",
   "metadata": {},
   "outputs": [],
   "source": [
    "X = df.iloc[:, :-1]"
   ]
  },
  {
   "cell_type": "code",
   "execution_count": 160,
   "id": "bf8397c6",
   "metadata": {},
   "outputs": [
    {
     "data": {
      "text/html": [
       "<div>\n",
       "<style scoped>\n",
       "    .dataframe tbody tr th:only-of-type {\n",
       "        vertical-align: middle;\n",
       "    }\n",
       "\n",
       "    .dataframe tbody tr th {\n",
       "        vertical-align: top;\n",
       "    }\n",
       "\n",
       "    .dataframe thead th {\n",
       "        text-align: right;\n",
       "    }\n",
       "</style>\n",
       "<table border=\"1\" class=\"dataframe\">\n",
       "  <thead>\n",
       "    <tr style=\"text-align: right;\">\n",
       "      <th></th>\n",
       "      <th>Age</th>\n",
       "      <th>League</th>\n",
       "      <th>Apps</th>\n",
       "      <th>Caps</th>\n",
       "    </tr>\n",
       "  </thead>\n",
       "  <tbody>\n",
       "    <tr>\n",
       "      <th>0</th>\n",
       "      <td>23</td>\n",
       "      <td>2</td>\n",
       "      <td>190</td>\n",
       "      <td>57</td>\n",
       "    </tr>\n",
       "    <tr>\n",
       "      <th>1</th>\n",
       "      <td>30</td>\n",
       "      <td>2</td>\n",
       "      <td>324</td>\n",
       "      <td>119</td>\n",
       "    </tr>\n",
       "    <tr>\n",
       "      <th>2</th>\n",
       "      <td>35</td>\n",
       "      <td>2</td>\n",
       "      <td>585</td>\n",
       "      <td>162</td>\n",
       "    </tr>\n",
       "    <tr>\n",
       "      <th>3</th>\n",
       "      <td>31</td>\n",
       "      <td>1</td>\n",
       "      <td>443</td>\n",
       "      <td>120</td>\n",
       "    </tr>\n",
       "    <tr>\n",
       "      <th>4</th>\n",
       "      <td>31</td>\n",
       "      <td>3</td>\n",
       "      <td>480</td>\n",
       "      <td>45</td>\n",
       "    </tr>\n",
       "    <tr>\n",
       "      <th>...</th>\n",
       "      <td>...</td>\n",
       "      <td>...</td>\n",
       "      <td>...</td>\n",
       "      <td>...</td>\n",
       "    </tr>\n",
       "    <tr>\n",
       "      <th>3902</th>\n",
       "      <td>19</td>\n",
       "      <td>1</td>\n",
       "      <td>0</td>\n",
       "      <td>0</td>\n",
       "    </tr>\n",
       "    <tr>\n",
       "      <th>3903</th>\n",
       "      <td>18</td>\n",
       "      <td>4</td>\n",
       "      <td>0</td>\n",
       "      <td>0</td>\n",
       "    </tr>\n",
       "    <tr>\n",
       "      <th>3904</th>\n",
       "      <td>18</td>\n",
       "      <td>1</td>\n",
       "      <td>0</td>\n",
       "      <td>0</td>\n",
       "    </tr>\n",
       "    <tr>\n",
       "      <th>3905</th>\n",
       "      <td>18</td>\n",
       "      <td>1</td>\n",
       "      <td>0</td>\n",
       "      <td>0</td>\n",
       "    </tr>\n",
       "    <tr>\n",
       "      <th>3906</th>\n",
       "      <td>18</td>\n",
       "      <td>1</td>\n",
       "      <td>0</td>\n",
       "      <td>0</td>\n",
       "    </tr>\n",
       "  </tbody>\n",
       "</table>\n",
       "<p>3907 rows × 4 columns</p>\n",
       "</div>"
      ],
      "text/plain": [
       "      Age  League  Apps  Caps\n",
       "0      23       2   190    57\n",
       "1      30       2   324   119\n",
       "2      35       2   585   162\n",
       "3      31       1   443   120\n",
       "4      31       3   480    45\n",
       "...   ...     ...   ...   ...\n",
       "3902   19       1     0     0\n",
       "3903   18       4     0     0\n",
       "3904   18       1     0     0\n",
       "3905   18       1     0     0\n",
       "3906   18       1     0     0\n",
       "\n",
       "[3907 rows x 4 columns]"
      ]
     },
     "execution_count": 160,
     "metadata": {},
     "output_type": "execute_result"
    }
   ],
   "source": [
    "X"
   ]
  },
  {
   "cell_type": "code",
   "execution_count": 163,
   "id": "75ef80e4",
   "metadata": {},
   "outputs": [],
   "source": [
    "y=df.iloc[:,-1]"
   ]
  },
  {
   "cell_type": "code",
   "execution_count": 164,
   "id": "08e4dbc9",
   "metadata": {},
   "outputs": [
    {
     "data": {
      "text/plain": [
       "0       46427000\n",
       "1       42125000\n",
       "2       34821000\n",
       "3       19959000\n",
       "4       19500000\n",
       "          ...   \n",
       "3902        3400\n",
       "3903        3200\n",
       "3904        2900\n",
       "3905        2700\n",
       "3906        1400\n",
       "Name: Wage, Length: 3907, dtype: int64"
      ]
     },
     "execution_count": 164,
     "metadata": {},
     "output_type": "execute_result"
    }
   ],
   "source": [
    "y"
   ]
  },
  {
   "cell_type": "code",
   "execution_count": 166,
   "id": "2b01174b",
   "metadata": {},
   "outputs": [],
   "source": [
    "from sklearn.model_selection import train_test_split\n",
    "X_train, X_test, y_train, y_test = train_test_split(X,y, test_size = 0.2)"
   ]
  },
  {
   "cell_type": "code",
   "execution_count": 167,
   "id": "dbd21f24",
   "metadata": {},
   "outputs": [
    {
     "data": {
      "text/html": [
       "<div>\n",
       "<style scoped>\n",
       "    .dataframe tbody tr th:only-of-type {\n",
       "        vertical-align: middle;\n",
       "    }\n",
       "\n",
       "    .dataframe tbody tr th {\n",
       "        vertical-align: top;\n",
       "    }\n",
       "\n",
       "    .dataframe thead th {\n",
       "        text-align: right;\n",
       "    }\n",
       "</style>\n",
       "<table border=\"1\" class=\"dataframe\">\n",
       "  <thead>\n",
       "    <tr style=\"text-align: right;\">\n",
       "      <th></th>\n",
       "      <th>Age</th>\n",
       "      <th>League</th>\n",
       "      <th>Apps</th>\n",
       "      <th>Caps</th>\n",
       "    </tr>\n",
       "  </thead>\n",
       "  <tbody>\n",
       "    <tr>\n",
       "      <th>3476</th>\n",
       "      <td>18</td>\n",
       "      <td>2</td>\n",
       "      <td>0</td>\n",
       "      <td>0</td>\n",
       "    </tr>\n",
       "    <tr>\n",
       "      <th>1816</th>\n",
       "      <td>22</td>\n",
       "      <td>1</td>\n",
       "      <td>103</td>\n",
       "      <td>0</td>\n",
       "    </tr>\n",
       "    <tr>\n",
       "      <th>2178</th>\n",
       "      <td>27</td>\n",
       "      <td>2</td>\n",
       "      <td>185</td>\n",
       "      <td>17</td>\n",
       "    </tr>\n",
       "    <tr>\n",
       "      <th>2749</th>\n",
       "      <td>18</td>\n",
       "      <td>3</td>\n",
       "      <td>5</td>\n",
       "      <td>0</td>\n",
       "    </tr>\n",
       "    <tr>\n",
       "      <th>1263</th>\n",
       "      <td>18</td>\n",
       "      <td>3</td>\n",
       "      <td>43</td>\n",
       "      <td>0</td>\n",
       "    </tr>\n",
       "    <tr>\n",
       "      <th>...</th>\n",
       "      <td>...</td>\n",
       "      <td>...</td>\n",
       "      <td>...</td>\n",
       "      <td>...</td>\n",
       "    </tr>\n",
       "    <tr>\n",
       "      <th>2886</th>\n",
       "      <td>18</td>\n",
       "      <td>3</td>\n",
       "      <td>26</td>\n",
       "      <td>0</td>\n",
       "    </tr>\n",
       "    <tr>\n",
       "      <th>1013</th>\n",
       "      <td>37</td>\n",
       "      <td>5</td>\n",
       "      <td>595</td>\n",
       "      <td>128</td>\n",
       "    </tr>\n",
       "    <tr>\n",
       "      <th>3114</th>\n",
       "      <td>21</td>\n",
       "      <td>3</td>\n",
       "      <td>4</td>\n",
       "      <td>0</td>\n",
       "    </tr>\n",
       "    <tr>\n",
       "      <th>508</th>\n",
       "      <td>27</td>\n",
       "      <td>5</td>\n",
       "      <td>185</td>\n",
       "      <td>4</td>\n",
       "    </tr>\n",
       "    <tr>\n",
       "      <th>1920</th>\n",
       "      <td>23</td>\n",
       "      <td>3</td>\n",
       "      <td>43</td>\n",
       "      <td>0</td>\n",
       "    </tr>\n",
       "  </tbody>\n",
       "</table>\n",
       "<p>3125 rows × 4 columns</p>\n",
       "</div>"
      ],
      "text/plain": [
       "      Age  League  Apps  Caps\n",
       "3476   18       2     0     0\n",
       "1816   22       1   103     0\n",
       "2178   27       2   185    17\n",
       "2749   18       3     5     0\n",
       "1263   18       3    43     0\n",
       "...   ...     ...   ...   ...\n",
       "2886   18       3    26     0\n",
       "1013   37       5   595   128\n",
       "3114   21       3     4     0\n",
       "508    27       5   185     4\n",
       "1920   23       3    43     0\n",
       "\n",
       "[3125 rows x 4 columns]"
      ]
     },
     "execution_count": 167,
     "metadata": {},
     "output_type": "execute_result"
    }
   ],
   "source": [
    "X_train"
   ]
  },
  {
   "cell_type": "raw",
   "id": "56b1603d",
   "metadata": {},
   "source": []
  },
  {
   "cell_type": "code",
   "execution_count": 182,
   "id": "1d092693",
   "metadata": {},
   "outputs": [
    {
     "data": {
      "text/html": [
       "<div>\n",
       "<style scoped>\n",
       "    .dataframe tbody tr th:only-of-type {\n",
       "        vertical-align: middle;\n",
       "    }\n",
       "\n",
       "    .dataframe tbody tr th {\n",
       "        vertical-align: top;\n",
       "    }\n",
       "\n",
       "    .dataframe thead th {\n",
       "        text-align: right;\n",
       "    }\n",
       "</style>\n",
       "<table border=\"1\" class=\"dataframe\">\n",
       "  <thead>\n",
       "    <tr style=\"text-align: right;\">\n",
       "      <th></th>\n",
       "      <th>Age</th>\n",
       "      <th>League</th>\n",
       "      <th>Apps</th>\n",
       "      <th>Caps</th>\n",
       "    </tr>\n",
       "  </thead>\n",
       "  <tbody>\n",
       "    <tr>\n",
       "      <th>3893</th>\n",
       "      <td>18</td>\n",
       "      <td>3</td>\n",
       "      <td>0</td>\n",
       "      <td>0</td>\n",
       "    </tr>\n",
       "    <tr>\n",
       "      <th>3266</th>\n",
       "      <td>18</td>\n",
       "      <td>0</td>\n",
       "      <td>0</td>\n",
       "      <td>0</td>\n",
       "    </tr>\n",
       "    <tr>\n",
       "      <th>1559</th>\n",
       "      <td>28</td>\n",
       "      <td>1</td>\n",
       "      <td>269</td>\n",
       "      <td>0</td>\n",
       "    </tr>\n",
       "    <tr>\n",
       "      <th>1446</th>\n",
       "      <td>28</td>\n",
       "      <td>0</td>\n",
       "      <td>256</td>\n",
       "      <td>60</td>\n",
       "    </tr>\n",
       "    <tr>\n",
       "      <th>2129</th>\n",
       "      <td>25</td>\n",
       "      <td>1</td>\n",
       "      <td>197</td>\n",
       "      <td>0</td>\n",
       "    </tr>\n",
       "    <tr>\n",
       "      <th>...</th>\n",
       "      <td>...</td>\n",
       "      <td>...</td>\n",
       "      <td>...</td>\n",
       "      <td>...</td>\n",
       "    </tr>\n",
       "    <tr>\n",
       "      <th>1717</th>\n",
       "      <td>27</td>\n",
       "      <td>2</td>\n",
       "      <td>177</td>\n",
       "      <td>0</td>\n",
       "    </tr>\n",
       "    <tr>\n",
       "      <th>2506</th>\n",
       "      <td>22</td>\n",
       "      <td>1</td>\n",
       "      <td>57</td>\n",
       "      <td>0</td>\n",
       "    </tr>\n",
       "    <tr>\n",
       "      <th>1257</th>\n",
       "      <td>18</td>\n",
       "      <td>3</td>\n",
       "      <td>65</td>\n",
       "      <td>4</td>\n",
       "    </tr>\n",
       "    <tr>\n",
       "      <th>21</th>\n",
       "      <td>26</td>\n",
       "      <td>0</td>\n",
       "      <td>205</td>\n",
       "      <td>45</td>\n",
       "    </tr>\n",
       "    <tr>\n",
       "      <th>2774</th>\n",
       "      <td>25</td>\n",
       "      <td>5</td>\n",
       "      <td>158</td>\n",
       "      <td>0</td>\n",
       "    </tr>\n",
       "  </tbody>\n",
       "</table>\n",
       "<p>782 rows × 4 columns</p>\n",
       "</div>"
      ],
      "text/plain": [
       "      Age  League  Apps  Caps\n",
       "3893   18       3     0     0\n",
       "3266   18       0     0     0\n",
       "1559   28       1   269     0\n",
       "1446   28       0   256    60\n",
       "2129   25       1   197     0\n",
       "...   ...     ...   ...   ...\n",
       "1717   27       2   177     0\n",
       "2506   22       1    57     0\n",
       "1257   18       3    65     4\n",
       "21     26       0   205    45\n",
       "2774   25       5   158     0\n",
       "\n",
       "[782 rows x 4 columns]"
      ]
     },
     "execution_count": 182,
     "metadata": {},
     "output_type": "execute_result"
    }
   ],
   "source": [
    "X_test"
   ]
  },
  {
   "cell_type": "code",
   "execution_count": 183,
   "id": "beb32411",
   "metadata": {},
   "outputs": [],
   "source": [
    "from sklearn.preprocessing import StandardScaler\n",
    "scaler = StandardScaler()\n",
    "scaled_X_test = scaler.fit_transform(X_test)\n",
    "scaled_X_train = scaler.fit_transform(X_train)"
   ]
  },
  {
   "cell_type": "code",
   "execution_count": 184,
   "id": "4faec753",
   "metadata": {},
   "outputs": [
    {
     "data": {
      "text/plain": [
       "array([[-1.23867387, -0.40187189, -1.05984975, -0.43296588],\n",
       "       [-0.43001333, -0.99790873, -0.28196474, -0.43296588],\n",
       "       [ 0.58081234, -0.40187189,  0.33732236,  0.41257735],\n",
       "       ...,\n",
       "       [-0.63217846,  0.19416496, -1.02964063, -0.43296588],\n",
       "       [ 0.58081234,  1.38623866,  0.33732236, -0.23401453],\n",
       "       [-0.22784819,  0.19416496, -0.73510164, -0.43296588]])"
      ]
     },
     "execution_count": 184,
     "metadata": {},
     "output_type": "execute_result"
    }
   ],
   "source": [
    "scaled_X_train"
   ]
  },
  {
   "cell_type": "code",
   "execution_count": 185,
   "id": "1b3e6481",
   "metadata": {},
   "outputs": [
    {
     "data": {
      "text/plain": [
       "array([[-1.24662095,  0.17047177, -1.07959892, -0.44485564],\n",
       "       [-1.24662095, -1.66405468, -1.07959892, -0.44485564],\n",
       "       [ 0.7988209 , -1.05254587,  1.01050443, -0.44485564],\n",
       "       ...,\n",
       "       [-1.24662095,  0.17047177, -0.57455536, -0.26350435],\n",
       "       [ 0.38973253, -1.66405468,  0.51323077,  1.59534635],\n",
       "       [ 0.18518834,  1.3934894 ,  0.14804543, -0.44485564]])"
      ]
     },
     "execution_count": 185,
     "metadata": {},
     "output_type": "execute_result"
    }
   ],
   "source": [
    "scaled_X_test"
   ]
  },
  {
   "cell_type": "code",
   "execution_count": 186,
   "id": "53a91dd6",
   "metadata": {},
   "outputs": [],
   "source": [
    "#Evaluation of the model performances\n",
    "import numpy as np\n",
    "from sklearn.metrics import mean_absolute_error, mean_squared_error\n",
    "def modelresults(predictions):\n",
    "    print(\"Mean absolute error on model is {}\".format(mean_absolute_error(y_test, predictions)))\n",
    "    print(\"Root mean squared error on model is {}\".format(np.sqrt(mean_squared_error(y_test, predictions))))"
   ]
  },
  {
   "cell_type": "code",
   "execution_count": 187,
   "id": "f19df81b",
   "metadata": {},
   "outputs": [
    {
     "data": {
      "text/plain": [
       "LinearRegression()"
      ]
     },
     "execution_count": 187,
     "metadata": {},
     "output_type": "execute_result"
    }
   ],
   "source": [
    "from sklearn.linear_model import LinearRegression\n",
    "lr = LinearRegression()\n",
    "lr.fit(scaled_X_train, y_train)"
   ]
  },
  {
   "cell_type": "code",
   "execution_count": 188,
   "id": "3a1f69e0",
   "metadata": {},
   "outputs": [],
   "source": [
    "#Predictions with our model\n",
    "predslr = lr.predict(scaled_X_test)"
   ]
  },
  {
   "cell_type": "code",
   "execution_count": 189,
   "id": "e4e37616",
   "metadata": {},
   "outputs": [
    {
     "name": "stdout",
     "output_type": "stream",
     "text": [
      "Mean absolute error on model is 1192303.2218681434\n",
      "Root mean squared error on model is 2646235.32129162\n"
     ]
    }
   ],
   "source": [
    "modelresults(predslr)"
   ]
  },
  {
   "cell_type": "code",
   "execution_count": 191,
   "id": "b7c3a9ca",
   "metadata": {},
   "outputs": [],
   "source": [
    "from sklearn.model_selection import GridSearchCV\n",
    "from sklearn.svm import SVR"
   ]
  },
  {
   "cell_type": "code",
   "execution_count": 192,
   "id": "6b36fcca",
   "metadata": {},
   "outputs": [],
   "source": [
    "svrmodel = SVR()"
   ]
  },
  {
   "cell_type": "code",
   "execution_count": 195,
   "id": "d7174806",
   "metadata": {},
   "outputs": [],
   "source": [
    "param_gridsvr = {\"C\" : [0.01,0.1,0.5], \"kernel\": [\"linear\", \"rbf\", \"poly\"], \"degree\": [2,3,4]}"
   ]
  },
  {
   "cell_type": "code",
   "execution_count": 133,
   "id": "c4b53995",
   "metadata": {},
   "outputs": [
    {
     "name": "stdout",
     "output_type": "stream",
     "text": [
      "Requirement already satisfied: scikit-learn in /Users/mac/opt/anaconda3/lib/python3.9/site-packages (1.0.2)\n",
      "Requirement already satisfied: numpy>=1.14.6 in /Users/mac/opt/anaconda3/lib/python3.9/site-packages (from scikit-learn) (1.22.4)\n",
      "Requirement already satisfied: scipy>=1.1.0 in /Users/mac/opt/anaconda3/lib/python3.9/site-packages (from scikit-learn) (1.7.3)\n",
      "Requirement already satisfied: joblib>=0.11 in /Users/mac/opt/anaconda3/lib/python3.9/site-packages (from scikit-learn) (1.1.0)\n",
      "Requirement already satisfied: threadpoolctl>=2.0.0 in /Users/mac/opt/anaconda3/lib/python3.9/site-packages (from scikit-learn) (2.2.0)\n",
      "\n",
      "\u001b[1m[\u001b[0m\u001b[34;49mnotice\u001b[0m\u001b[1;39;49m]\u001b[0m\u001b[39;49m A new release of pip is available: \u001b[0m\u001b[31;49m23.2.1\u001b[0m\u001b[39;49m -> \u001b[0m\u001b[32;49m23.3.1\u001b[0m\n",
      "\u001b[1m[\u001b[0m\u001b[34;49mnotice\u001b[0m\u001b[1;39;49m]\u001b[0m\u001b[39;49m To update, run: \u001b[0m\u001b[32;49mpip install --upgrade pip\u001b[0m\n",
      "Note: you may need to restart the kernel to use updated packages.\n"
     ]
    }
   ],
   "source": [
    "pip install scikit-learn"
   ]
  },
  {
   "cell_type": "code",
   "execution_count": 196,
   "id": "6dac4238",
   "metadata": {},
   "outputs": [],
   "source": [
    "gridsvr = GridSearchCV(svrmodel,param_gridsvr)"
   ]
  },
  {
   "cell_type": "code",
   "execution_count": 197,
   "id": "16e2f410",
   "metadata": {},
   "outputs": [
    {
     "data": {
      "text/plain": [
       "GridSearchCV(estimator=SVR(),\n",
       "             param_grid={'C': [0.01, 0.1, 0.5], 'degree': [2, 3, 4],\n",
       "                         'kernel': ['linear', 'rbf', 'poly']})"
      ]
     },
     "execution_count": 197,
     "metadata": {},
     "output_type": "execute_result"
    }
   ],
   "source": [
    "gridsvr.fit(scaled_X_train, y_train)"
   ]
  },
  {
   "cell_type": "code",
   "execution_count": 200,
   "id": "596fe481",
   "metadata": {},
   "outputs": [
    {
     "name": "stdout",
     "output_type": "stream",
     "text": [
      "Best parameters for model is {'C': 0.5, 'degree': 4, 'kernel': 'poly'}\n"
     ]
    }
   ],
   "source": [
    "print(\"Best parameters for model is {}\".format(gridsvr.best_params_))"
   ]
  },
  {
   "cell_type": "code",
   "execution_count": 201,
   "id": "bbe7de25",
   "metadata": {},
   "outputs": [],
   "source": [
    "predsgridsvr = gridsvr.predict(scaled_X_test)"
   ]
  },
  {
   "cell_type": "code",
   "execution_count": 202,
   "id": "4cb7266d",
   "metadata": {},
   "outputs": [
    {
     "name": "stdout",
     "output_type": "stream",
     "text": [
      "Mean absolute error on model is 1341326.050343156\n",
      "Root mean squared error on model is 3322511.589775244\n"
     ]
    }
   ],
   "source": [
    "modelresults(predsgridsvr)"
   ]
  },
  {
   "cell_type": "code",
   "execution_count": 203,
   "id": "be5c80cb",
   "metadata": {},
   "outputs": [],
   "source": [
    "#Train one model using Randomforest"
   ]
  },
  {
   "cell_type": "code",
   "execution_count": 204,
   "id": "7071bd53",
   "metadata": {},
   "outputs": [],
   "source": [
    "from sklearn.ensemble import RandomForestRegressor"
   ]
  },
  {
   "cell_type": "code",
   "execution_count": 205,
   "id": "e8a9fd30",
   "metadata": {},
   "outputs": [],
   "source": [
    "rfrmodel = RandomForestRegressor()"
   ]
  },
  {
   "cell_type": "code",
   "execution_count": 210,
   "id": "ca1a6553",
   "metadata": {},
   "outputs": [],
   "source": [
    "param_gridrfr = {\"max_depth\" : [5,10,15], \"max_features\" : [\"auto\",\"log2\"], \"n_estimators\" : [2,5,7,10]}"
   ]
  },
  {
   "cell_type": "code",
   "execution_count": 211,
   "id": "c5433cf8",
   "metadata": {},
   "outputs": [],
   "source": [
    "gridrfr = GridSearchCV(rfrmodel, param_gridrfr)"
   ]
  },
  {
   "cell_type": "code",
   "execution_count": 212,
   "id": "b12ee26a",
   "metadata": {},
   "outputs": [
    {
     "data": {
      "text/plain": [
       "GridSearchCV(estimator=RandomForestRegressor(),\n",
       "             param_grid={'max_depth': [5, 10, 15],\n",
       "                         'max_features': ['auto', 'log2'],\n",
       "                         'n_estimators': [2, 5, 7, 10]})"
      ]
     },
     "execution_count": 212,
     "metadata": {},
     "output_type": "execute_result"
    }
   ],
   "source": [
    "gridrfr.fit(scaled_X_train, y_train)"
   ]
  },
  {
   "cell_type": "code",
   "execution_count": 213,
   "id": "a7ffe825",
   "metadata": {},
   "outputs": [
    {
     "name": "stdout",
     "output_type": "stream",
     "text": [
      "Best parameters for model is {'max_depth': 5, 'max_features': 'auto', 'n_estimators': 10}\n"
     ]
    }
   ],
   "source": [
    "print(\"Best parameters for model is {}\".format(gridrfr.best_params_))"
   ]
  },
  {
   "cell_type": "code",
   "execution_count": 214,
   "id": "e3c0ed70",
   "metadata": {},
   "outputs": [],
   "source": [
    "predsgridrfr = gridrfr.predict(scaled_X_test)"
   ]
  },
  {
   "cell_type": "code",
   "execution_count": 215,
   "id": "b8568e4c",
   "metadata": {},
   "outputs": [
    {
     "name": "stdout",
     "output_type": "stream",
     "text": [
      "Mean absolute error on model is 998374.1017260001\n",
      "Root mean squared error on model is 2582812.049679911\n"
     ]
    }
   ],
   "source": [
    "modelresults(predsgridrfr)"
   ]
  },
  {
   "cell_type": "code",
   "execution_count": null,
   "id": "69d47e98",
   "metadata": {},
   "outputs": [],
   "source": []
  }
 ],
 "metadata": {
  "kernelspec": {
   "display_name": "Python 3 (ipykernel)",
   "language": "python",
   "name": "python3"
  },
  "language_info": {
   "codemirror_mode": {
    "name": "ipython",
    "version": 3
   },
   "file_extension": ".py",
   "mimetype": "text/x-python",
   "name": "python",
   "nbconvert_exporter": "python",
   "pygments_lexer": "ipython3",
   "version": "3.9.12"
  }
 },
 "nbformat": 4,
 "nbformat_minor": 5
}
